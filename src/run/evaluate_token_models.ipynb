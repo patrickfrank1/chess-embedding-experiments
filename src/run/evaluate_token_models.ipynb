{
 "cells": [
  {
   "cell_type": "code",
   "execution_count": 1,
   "metadata": {},
   "outputs": [],
   "source": [
    "path = !(echo $(pwd))"
   ]
  },
  {
   "cell_type": "code",
   "execution_count": 2,
   "metadata": {},
   "outputs": [
    {
     "name": "stderr",
     "output_type": "stream",
     "text": [
      "2023-10-15 18:35:45.346254: I tensorflow/core/platform/cpu_feature_guard.cc:193] This TensorFlow binary is optimized with oneAPI Deep Neural Network Library (oneDNN) to use the following CPU instructions in performance-critical operations:  AVX2 FMA\n",
      "To enable them in other operations, rebuild TensorFlow with the appropriate compiler flags.\n",
      "2023-10-15 18:35:45.431981: W tensorflow/compiler/xla/stream_executor/platform/default/dso_loader.cc:64] Could not load dynamic library 'libcudart.so.11.0'; dlerror: libcudart.so.11.0: cannot open shared object file: No such file or directory\n",
      "2023-10-15 18:35:45.431996: I tensorflow/compiler/xla/stream_executor/cuda/cudart_stub.cc:29] Ignore above cudart dlerror if you do not have a GPU set up on your machine.\n",
      "2023-10-15 18:35:46.023449: W tensorflow/compiler/xla/stream_executor/platform/default/dso_loader.cc:64] Could not load dynamic library 'libnvinfer.so.7'; dlerror: libnvinfer.so.7: cannot open shared object file: No such file or directory\n",
      "2023-10-15 18:35:46.023492: W tensorflow/compiler/xla/stream_executor/platform/default/dso_loader.cc:64] Could not load dynamic library 'libnvinfer_plugin.so.7'; dlerror: libnvinfer_plugin.so.7: cannot open shared object file: No such file or directory\n",
      "2023-10-15 18:35:46.023498: W tensorflow/compiler/tf2tensorrt/utils/py_utils.cc:38] TF-TRT Warning: Cannot dlopen some TensorRT libraries. If you would like to use Nvidia GPU with TensorRT, please make sure the missing libraries mentioned above are installed properly.\n"
     ]
    },
    {
     "name": "stdout",
     "output_type": "stream",
     "text": [
      "Using TensorFlow backend\n"
     ]
    }
   ],
   "source": [
    "import os\n",
    "import sys\n",
    "sys.path.insert(0, os.path.dirname(os.path.dirname(path[0])))\n",
    "\n",
    "import numpy as np\n",
    "import chess\n",
    "import tensorflow\n",
    "from tensorflow import keras\n",
    "import keras_nlp\n",
    "\n",
    "from src.preprocessing.board_representation import board_to_token_sequence, token_sequence_to_board\n",
    "from src.evaluation.visualisation import *\n",
    "from src.utils.data_loader import load_train_test\n",
    "from src.modeling.model import PositionPredictionHead"
   ]
  },
  {
   "cell_type": "code",
   "execution_count": 3,
   "metadata": {},
   "outputs": [
    {
     "name": "stdout",
     "output_type": "stream",
     "text": [
      "2.11.1\n"
     ]
    }
   ],
   "source": [
    "print(tensorflow.__version__)"
   ]
  },
  {
   "cell_type": "code",
   "execution_count": 4,
   "metadata": {},
   "outputs": [
    {
     "name": "stdout",
     "output_type": "stream",
     "text": [
      "90000 10000\n"
     ]
    }
   ],
   "source": [
    "train_data, test_data = load_train_test(\"../../data\", \"position_tensor_000\")\n",
    "print(len(train_data), len(test_data))"
   ]
  },
  {
   "cell_type": "code",
   "execution_count": 5,
   "metadata": {},
   "outputs": [
    {
     "name": "stderr",
     "output_type": "stream",
     "text": [
      "2023-10-15 18:35:49.364346: W tensorflow/compiler/xla/stream_executor/platform/default/dso_loader.cc:64] Could not load dynamic library 'libcuda.so.1'; dlerror: libcuda.so.1: cannot open shared object file: No such file or directory\n",
      "2023-10-15 18:35:49.364363: W tensorflow/compiler/xla/stream_executor/cuda/cuda_driver.cc:265] failed call to cuInit: UNKNOWN ERROR (303)\n",
      "2023-10-15 18:35:49.364403: I tensorflow/compiler/xla/stream_executor/cuda/cuda_diagnostics.cc:156] kernel driver does not appear to be running on this host (pafrank-hystou): /proc/driver/nvidia/version does not exist\n",
      "2023-10-15 18:35:49.364563: I tensorflow/core/platform/cpu_feature_guard.cc:193] This TensorFlow binary is optimized with oneAPI Deep Neural Network Library (oneDNN) to use the following CPU instructions in performance-critical operations:  AVX2 FMA\n",
      "To enable them in other operations, rebuild TensorFlow with the appropriate compiler flags.\n"
     ]
    }
   ],
   "source": [
    "autoencoder = keras.models.load_model(\"../../model/20231015152500_autoencoder.tf\")\n",
    "autoencoder_predictor = PositionPredictionHead(backend=autoencoder)"
   ]
  },
  {
   "cell_type": "markdown",
   "metadata": {},
   "source": [
    "# Encoder and decoder evaluation"
   ]
  },
  {
   "cell_type": "code",
   "execution_count": null,
   "metadata": {},
   "outputs": [],
   "source": [
    "index = 3141"
   ]
  },
  {
   "cell_type": "code",
   "execution_count": null,
   "metadata": {},
   "outputs": [],
   "source": [
    "sample = test_data[index].reshape((1,69))"
   ]
  },
  {
   "cell_type": "code",
   "execution_count": null,
   "metadata": {},
   "outputs": [],
   "source": [
    "reconstruction = autoencoder_predictor.predict_on_batch(sample)"
   ]
  },
  {
   "cell_type": "code",
   "execution_count": null,
   "metadata": {},
   "outputs": [],
   "source": [
    "tensorflow.math.count_nonzero(tensorflow.subtract(sample, reconstruction), axis=-1)"
   ]
  },
  {
   "cell_type": "code",
   "execution_count": null,
   "metadata": {},
   "outputs": [],
   "source": [
    "autoencoder_predictor.evaluate(sample, reconstruction, return_dict=True), autoencoder_predictor.evaluate(x=sample)"
   ]
  },
  {
   "cell_type": "code",
   "execution_count": null,
   "metadata": {},
   "outputs": [],
   "source": [
    "sample_board = token_sequence_to_board(sample[0])\n",
    "reconstructed_board = token_sequence_to_board(reconstruction[0].numpy())"
   ]
  },
  {
   "cell_type": "code",
   "execution_count": null,
   "metadata": {},
   "outputs": [],
   "source": [
    "print_board(sample_board)"
   ]
  },
  {
   "cell_type": "code",
   "execution_count": null,
   "metadata": {},
   "outputs": [],
   "source": [
    "print_board(reconstructed_board)"
   ]
  },
  {
   "cell_type": "markdown",
   "metadata": {},
   "source": [
    "# Position similarity search"
   ]
  },
  {
   "cell_type": "code",
   "execution_count": 6,
   "metadata": {},
   "outputs": [],
   "source": [
    "encoder = autoencoder.get_layer('encoder')\n",
    "decoder = autoencoder.get_layer('decoder')\n",
    "decoder_predictor = PositionPredictionHead(backend=decoder)"
   ]
  },
  {
   "cell_type": "code",
   "execution_count": 7,
   "metadata": {},
   "outputs": [],
   "source": [
    "chess_positions = {\n",
    "    \"game_1_catalan_opening\" : chess.Board(fen=\"r1bqr1k1/pp1nnpbp/2p3p1/4p3/4P3/4BNP1/PPPQ1PBP/RN2R1K1 w - - 2 11\"), # game 1 - catalan opening\n",
    "    \"game_1_one_move_later\" : chess.Board(fen=\"r1bqr1k1/pp1nnpbp/2p3pB/4p3/4P3/5NP1/PPPQ1PBP/RN2R1K1 b - - 3 11\"),\n",
    "    \"game_1_few_moves_later\" : chess.Board(fen=\"r3r3/ppq1npkp/2p3p1/2n1p2P/4P1b1/5NP1/PPPQ1PB1/RN2R1K1 w - - 1 15\"),\n",
    "    \"game_1_middle_game\" : chess.Board(fen=\"7r/p3npk1/2p4r/1p2N1p1/1P2P3/2P3P1/P4PK1/3RR3 w - - 0 28\"),\n",
    "    \"game_1_end_game\" : chess.Board(fen=\"8/8/8/1N3k2/1n3Pp1/6P1/5K2/8 w - - 0 43\"),\n",
    "    \"game_2_catalan_opening\" : chess.Board(fen=\"rn1qk2r/pp2bppp/2p5/3p1b2/3PnB2/2N2NP1/PP2PPBP/R2Q1RK1 b kq - 1 9\"),\n",
    "    \"game_2_middle_game\" : chess.Board(fen=\"r2r2k1/pQ3ppp/3q4/3P1b2/2R5/6P1/P4PBP/5RK1 b - - 0 21\")\n",
    "}"
   ]
  },
  {
   "cell_type": "code",
   "execution_count": 8,
   "metadata": {},
   "outputs": [
    {
     "name": "stdout",
     "output_type": "stream",
     "text": [
      "1/1 [==============================] - 0s 193ms/step\n",
      "1/1 [==============================] - 0s 30ms/step\n",
      "1/1 [==============================] - 0s 22ms/step\n",
      "1/1 [==============================] - 0s 20ms/step\n",
      "1/1 [==============================] - 0s 23ms/step\n",
      "1/1 [==============================] - 0s 21ms/step\n",
      "1/1 [==============================] - 0s 24ms/step\n"
     ]
    }
   ],
   "source": [
    "embeddings = {}\n",
    "for key, board in chess_positions.items():\n",
    "    input = board_to_token_sequence(board).reshape((1,-1))\n",
    "    embeddings[key] = encoder.predict(input).reshape((-1,))"
   ]
  },
  {
   "cell_type": "code",
   "execution_count": 9,
   "metadata": {},
   "outputs": [
    {
     "data": {
      "text/plain": [
       "{'game_1_catalan_opening': array([ 0.7254491 , -0.6969434 , -0.30220425, ...,  0.45220733,\n",
       "        -0.74144757,  0.7148921 ], dtype=float32),\n",
       " 'game_1_one_move_later': array([ 0.7256128 , -0.69746464, -0.3022627 , ...,  0.45182386,\n",
       "        -0.741443  ,  0.7147801 ], dtype=float32),\n",
       " 'game_1_few_moves_later': array([ 0.7241653, -0.7003104, -0.2919393, ...,  0.4432223, -0.7331296,\n",
       "         0.7099727], dtype=float32),\n",
       " 'game_1_middle_game': array([-0.07214801, -0.03938187,  0.86056125, ...,  0.38931632,\n",
       "        -0.67907536,  0.67885464], dtype=float32),\n",
       " 'game_1_end_game': array([-0.12006491, -0.05986996,  0.8703506 , ...,  0.3128612 ,\n",
       "        -0.592128  ,  0.6326684 ], dtype=float32),\n",
       " 'game_2_catalan_opening': array([ 0.7264494 , -0.6947676 , -0.30995157, ...,  0.38594812,\n",
       "        -0.7029587 ,  0.8770941 ], dtype=float32),\n",
       " 'game_2_middle_game': array([-0.07723282, -0.04288148,  0.8615534 , ...,  0.3836397 ,\n",
       "        -0.6732428 ,  0.67574996], dtype=float32)}"
      ]
     },
     "execution_count": 9,
     "metadata": {},
     "output_type": "execute_result"
    }
   ],
   "source": [
    "embeddings"
   ]
  },
  {
   "cell_type": "code",
   "execution_count": 19,
   "metadata": {},
   "outputs": [],
   "source": [
    "reverse_embeddings = {v.tobytes(): k for k,v in embeddings.items()}\n",
    "reverse_reverse = {v: np.frombuffer(k, dtype=np.float32) for k,v in reverse_embeddings.items()}"
   ]
  },
  {
   "cell_type": "code",
   "execution_count": 20,
   "metadata": {},
   "outputs": [
    {
     "data": {
      "text/plain": [
       "True"
      ]
     },
     "execution_count": 20,
     "metadata": {},
     "output_type": "execute_result"
    }
   ],
   "source": [
    "np.allclose(embeddings[\"game_1_catalan_opening\"], reverse_reverse[\"game_1_catalan_opening\"])"
   ]
  },
  {
   "cell_type": "code",
   "execution_count": 10,
   "metadata": {},
   "outputs": [],
   "source": [
    "import matplotlib.pyplot as plt\n",
    "from sklearn.decomposition import PCA\n",
    "import umap"
   ]
  },
  {
   "cell_type": "code",
   "execution_count": 12,
   "metadata": {},
   "outputs": [
    {
     "data": {
      "image/png": "[encoded data removed]",
      "text/plain": [
       "<Figure size 640x480 with 1 Axes>"
      ]
     },
     "metadata": {},
     "output_type": "display_data"
    }
   ],
   "source": [
    "vectors = list(embeddings.values())\n",
    "reducer = PCA(n_components=2)\n",
    "#reducer = umap.UMAP()\n",
    "projected = reducer.fit_transform(vectors)\n",
    "\n",
    "# Creating a scatter plot with annotations\n",
    "fig, ax = plt.subplots()\n",
    "for i, (key, value) in enumerate(embeddings.items()):\n",
    "    ax.scatter(projected[i, 0], projected[i, 1])\n",
    "    ax.text(projected[i, 0], projected[i, 1], key)\n",
    "\n",
    "plt.show()"
   ]
  },
  {
   "cell_type": "code",
   "execution_count": null,
   "metadata": {},
   "outputs": [],
   "source": []
  },
  {
   "cell_type": "code",
   "execution_count": null,
   "metadata": {},
   "outputs": [],
   "source": []
  }
 ],
 "metadata": {
  "kernelspec": {
   "display_name": "chess-embedding-experiments-mpMV2XyT-py3.11",
   "language": "python",
   "name": "python3"
  },
  "language_info": {
   "codemirror_mode": {
    "name": "ipython",
    "version": 3
   },
   "file_extension": ".py",
   "mimetype": "text/x-python",
   "name": "python",
   "nbconvert_exporter": "python",
   "pygments_lexer": "ipython3",
   "version": "3.9.16"
  },
  "orig_nbformat": 4
 },
 "nbformat": 4,
 "nbformat_minor": 2
}
