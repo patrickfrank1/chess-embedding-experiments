{
 "cells": [
  {
   "cell_type": "code",
   "execution_count": 6,
   "metadata": {},
   "outputs": [],
   "source": [
    "path = !(echo $(pwd))"
   ]
  },
  {
   "cell_type": "code",
   "execution_count": 8,
   "metadata": {},
   "outputs": [],
   "source": [
    "import os\n",
    "import sys\n",
    "sys.path.insert(0, os.path.dirname(os.path.dirname(path[0])))\n",
    "\n",
    "import numpy as np\n",
    "import chess\n",
    "import tensorflow\n",
    "from tensorflow import keras\n",
    "\n",
    "from src.preprocessing.board_representation import tensor_to_board\n",
    "from src.evaluation.visualisation import *\n",
    "from src.utils.data_loader import load_train_test\n",
    "from src.modeling.custom_losses import sum_squared_loss, pc_column_reg, pc_plane_reg, num_pc_reg, custom_regularized_loss"
   ]
  },
  {
   "cell_type": "code",
   "execution_count": 9,
   "metadata": {},
   "outputs": [
    {
     "name": "stdout",
     "output_type": "stream",
     "text": [
      "2.13.0\n"
     ]
    }
   ],
   "source": [
    "print(tensorflow.__version__)"
   ]
  },
  {
   "cell_type": "code",
   "execution_count": 10,
   "metadata": {},
   "outputs": [],
   "source": [
    "import matplotlib.pyplot as plt\n",
    "from ipywidgets import interact, IntSlider"
   ]
  },
  {
   "cell_type": "code",
   "execution_count": 11,
   "metadata": {},
   "outputs": [],
   "source": [
    "def visualize_tensor(tensor):\n",
    "\n",
    "    pieces = [\"pawn\", \"knight\", \"bishop\", \"rook\", \"queen\", \"king\"]\n",
    "    piece_map = [\"white \"+piece for piece in pieces] + \\\n",
    "        [\"black \"+piece for piece in pieces] + \\\n",
    "        [\"castling rights\", \"en passant\", \"turn\"]\n",
    "\n",
    "    def plot_slice(slice_index):\n",
    "        plt.figure(figsize=(8, 8))\n",
    "        plt.imshow(tensor[0][:, :, slice_index], cmap='viridis', vmin=0, vmax=1)\n",
    "        plt.colorbar()\n",
    "        plt.gca().invert_yaxis()\n",
    "        plt.title(f\"Slice {slice_index} - {piece_map[slice_index]}\")\n",
    "        plt.show()\n",
    "\n",
    "    return interact(plot_slice, slice_index=IntSlider(min=0, max=tensor[0].shape[2] - 1, step=1, value=0))"
   ]
  },
  {
   "cell_type": "code",
   "execution_count": 13,
   "metadata": {},
   "outputs": [
    {
     "name": "stdout",
     "output_type": "stream",
     "text": [
      "900000 100000\n"
     ]
    }
   ],
   "source": [
    "train_data, test_data = load_train_test(\"../../data\", \"position_tensor_000\")\n",
    "print(len(train_data), len(test_data))"
   ]
  },
  {
   "cell_type": "code",
   "execution_count": 14,
   "metadata": {},
   "outputs": [],
   "source": [
    "model = keras.models.load_model(\n",
    "    \"../../model/20230918231931_autoencoder.keras\",\n",
    "    custom_objects={\n",
    "        \"sum_squared_loss\": sum_squared_loss,\n",
    "        \"num_pc_reg\": num_pc_reg,\n",
    "        \"pc_column_reg\": pc_column_reg,\n",
    "        \"pc_plane_reg\": pc_plane_reg,\n",
    "        \"custom_loss\": custom_regularized_loss\n",
    "    }\n",
    ")"
   ]
  },
  {
   "cell_type": "code",
   "execution_count": 15,
   "metadata": {},
   "outputs": [],
   "source": [
    "index = 2"
   ]
  },
  {
   "cell_type": "code",
   "execution_count": 16,
   "metadata": {},
   "outputs": [],
   "source": [
    "sample = test_data[index].reshape((1,8,8,15))"
   ]
  },
  {
   "cell_type": "code",
   "execution_count": 17,
   "metadata": {},
   "outputs": [
    {
     "name": "stderr",
     "output_type": "stream",
     "text": [
      "2023-09-24 19:50:42.858034: I tensorflow/compiler/xla/service/service.cc:168] XLA service 0x7fcea0009430 initialized for platform Host (this does not guarantee that XLA will be used). Devices:\n",
      "2023-09-24 19:50:42.858103: I tensorflow/compiler/xla/service/service.cc:176]   StreamExecutor device (0): Host, Default Version\n",
      "2023-09-24 19:50:42.865158: I tensorflow/compiler/mlir/tensorflow/utils/dump_mlir_util.cc:255] disabling MLIR crash reproducer, set env var `MLIR_CRASH_REPRODUCER_DIRECTORY` to enable.\n",
      "2023-09-24 19:50:42.910544: I ./tensorflow/compiler/jit/device_compiler.h:186] Compiled cluster using XLA!  This line is logged at most once for the lifetime of the process.\n"
     ]
    }
   ],
   "source": [
    "reconstruction = model.predict_on_batch(sample)"
   ]
  },
  {
   "cell_type": "code",
   "execution_count": 18,
   "metadata": {},
   "outputs": [
    {
     "name": "stdout",
     "output_type": "stream",
     "text": [
      "1/1 [==============================] - 1s 846ms/step - loss: 1.7422 - sum_squared_loss: 1.5000 - num_pc_reg: 0.0000e+00 - pc_column_reg: 1.4297 - pc_plane_reg: 1.0312\n"
     ]
    },
    {
     "data": {
      "text/plain": [
       "{'loss': 1.7421875,\n",
       " 'sum_squared_loss': 1.5,\n",
       " 'num_pc_reg': 0.0,\n",
       " 'pc_column_reg': 1.4296875,\n",
       " 'pc_plane_reg': 1.03125}"
      ]
     },
     "execution_count": 18,
     "metadata": {},
     "output_type": "execute_result"
    }
   ],
   "source": [
    "model.evaluate(x=[reconstruction], y=[sample], return_dict=True)"
   ]
  },
  {
   "cell_type": "code",
   "execution_count": 19,
   "metadata": {},
   "outputs": [
    {
     "data": {
      "text/plain": [
       "(<tf.Tensor: shape=(), dtype=bfloat16, numpy=1.25>,\n",
       " <tf.Tensor: shape=(), dtype=bfloat16, numpy=1.125>,\n",
       " <tf.Tensor: shape=(), dtype=bfloat16, numpy=0.00265503>,\n",
       " <tf.Tensor: shape=(), dtype=bfloat16, numpy=0.792969>,\n",
       " <tf.Tensor: shape=(), dtype=bfloat16, numpy=0.433594>)"
      ]
     },
     "execution_count": 19,
     "metadata": {},
     "output_type": "execute_result"
    }
   ],
   "source": [
    "custom_regularized_loss(sample, reconstruction), sum_squared_loss(sample, reconstruction), num_pc_reg(sample, reconstruction), pc_column_reg(sample, reconstruction), pc_plane_reg(sample, reconstruction)"
   ]
  },
  {
   "cell_type": "code",
   "execution_count": 20,
   "metadata": {},
   "outputs": [],
   "source": [
    "binary_reconstruction = binarize_array(reconstruction)"
   ]
  },
  {
   "cell_type": "code",
   "execution_count": 21,
   "metadata": {},
   "outputs": [],
   "source": [
    "sample_board = tensor_to_board(sample[0])\n",
    "reconstructed_board = tensor_to_board(binary_reconstruction[0])"
   ]
  },
  {
   "cell_type": "code",
   "execution_count": 22,
   "metadata": {},
   "outputs": [
    {
     "name": "stdout",
     "output_type": "stream",
     "text": [
      ". . . . . . . .\n",
      ". . . . . . . K\n",
      ". . . . . . . .\n",
      ". . . . . P . .\n",
      ". . . . . . . k\n",
      ". . . . . . . .\n",
      ". . q . . . . .\n",
      ". . . . . . Q .\n",
      "\n",
      "\n"
     ]
    }
   ],
   "source": [
    "print_board(sample_board)"
   ]
  },
  {
   "cell_type": "code",
   "execution_count": 23,
   "metadata": {},
   "outputs": [
    {
     "name": "stdout",
     "output_type": "stream",
     "text": [
      ". . . . . . . .\n",
      ". . . . . . . K\n",
      ". . . . . . . .\n",
      ". . . . . P . .\n",
      ". . . . . . . k\n",
      ". . . . . . . .\n",
      ". . q . . . . .\n",
      ". . . . . . . .\n",
      "\n",
      "\n"
     ]
    }
   ],
   "source": [
    "print_board(reconstructed_board)"
   ]
  },
  {
   "cell_type": "code",
   "execution_count": 24,
   "metadata": {},
   "outputs": [
    {
     "data": {
      "application/vnd.jupyter.widget-view+json": {
       "model_id": "3c71622cc11d4c2eac12baedebecc014",
       "version_major": 2,
       "version_minor": 0
      },
      "text/plain": [
       "interactive(children=(IntSlider(value=0, description='slice_index', max=14), Output()), _dom_classes=('widget-…"
      ]
     },
     "metadata": {},
     "output_type": "display_data"
    },
    {
     "data": {
      "text/plain": [
       "<function __main__.visualize_tensor.<locals>.plot_slice(slice_index)>"
      ]
     },
     "execution_count": 24,
     "metadata": {},
     "output_type": "execute_result"
    }
   ],
   "source": [
    "visualize_tensor(abs(reconstruction-sample))"
   ]
  },
  {
   "cell_type": "code",
   "execution_count": null,
   "metadata": {},
   "outputs": [],
   "source": []
  }
 ],
 "metadata": {
  "kernelspec": {
   "display_name": "chess-embedding-experiments-mpMV2XyT-py3.11",
   "language": "python",
   "name": "python3"
  },
  "language_info": {
   "codemirror_mode": {
    "name": "ipython",
    "version": 3
   },
   "file_extension": ".py",
   "mimetype": "text/x-python",
   "name": "python",
   "nbconvert_exporter": "python",
   "pygments_lexer": "ipython3",
   "version": "3.9.16"
  },
  "orig_nbformat": 4
 },
 "nbformat": 4,
 "nbformat_minor": 2
}
