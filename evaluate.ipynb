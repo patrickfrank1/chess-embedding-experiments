{
 "cells": [
  {
   "cell_type": "code",
   "execution_count": 32,
   "metadata": {},
   "outputs": [],
   "source": [
    "path = !(echo $(pwd))"
   ]
  },
  {
   "cell_type": "code",
   "execution_count": 33,
   "metadata": {},
   "outputs": [],
   "source": [
    "import sys\n",
    "sys.path.insert(0, path[0])\n",
    "\n",
    "import numpy as np\n",
    "import chess\n",
    "import tensorflow\n",
    "from tensorflow import keras\n",
    "\n",
    "from utils.board_representation import tensor_to_board\n",
    "from utils.visualisation import *\n",
    "from utils.data_loader import load_train_test\n",
    "from train import sum_squared_loss, pc_column_reg, pc_plane_reg, num_pc_reg, custom_regularized_loss"
   ]
  },
  {
   "cell_type": "code",
   "execution_count": 34,
   "metadata": {},
   "outputs": [
    {
     "name": "stdout",
     "output_type": "stream",
     "text": [
      "2.13.0\n"
     ]
    }
   ],
   "source": [
    "print(tensorflow.__version__)"
   ]
  },
  {
   "cell_type": "code",
   "execution_count": 35,
   "metadata": {},
   "outputs": [],
   "source": [
    "import matplotlib.pyplot as plt\n",
    "from ipywidgets import interact, IntSlider"
   ]
  },
  {
   "cell_type": "code",
   "execution_count": 36,
   "metadata": {},
   "outputs": [],
   "source": [
    "def visualize_tensor(tensor):\n",
    "\n",
    "    pieces = [\"pawn\", \"knight\", \"bishop\", \"rook\", \"queen\", \"king\"]\n",
    "    piece_map = [\"white \"+piece for piece in pieces] + \\\n",
    "        [\"black \"+piece for piece in pieces] + \\\n",
    "        [\"castling rights\", \"en passant\", \"turn\"]\n",
    "\n",
    "    def plot_slice(slice_index):\n",
    "        plt.figure(figsize=(8, 8))\n",
    "        plt.imshow(tensor[0][:, :, slice_index], cmap='viridis', vmin=0, vmax=1)\n",
    "        plt.colorbar()\n",
    "        plt.gca().invert_yaxis()\n",
    "        plt.title(f\"Slice {slice_index} - {piece_map[slice_index]}\")\n",
    "        plt.show()\n",
    "\n",
    "    return interact(plot_slice, slice_index=IntSlider(min=0, max=tensor[0].shape[2] - 1, step=1, value=0))"
   ]
  },
  {
   "cell_type": "code",
   "execution_count": 37,
   "metadata": {},
   "outputs": [
    {
     "name": "stdout",
     "output_type": "stream",
     "text": [
      "900000 100000\n"
     ]
    }
   ],
   "source": [
    "train_data, test_data = load_train_test(\"./data\", \"position_tensor_000\")\n",
    "print(len(train_data), len(test_data))"
   ]
  },
  {
   "cell_type": "code",
   "execution_count": 38,
   "metadata": {},
   "outputs": [],
   "source": [
    "model = keras.models.load_model(\n",
    "    \"./model/20230918231931_autoencoder.keras\",\n",
    "    custom_objects={\n",
    "        \"sum_squared_loss\": sum_squared_loss,\n",
    "        \"num_pc_reg\": num_pc_reg,\n",
    "        \"pc_column_reg\": pc_column_reg,\n",
    "        \"pc_plane_reg\": pc_plane_reg,\n",
    "        \"custom_loss\": custom_regularized_loss\n",
    "    }\n",
    ")"
   ]
  },
  {
   "cell_type": "code",
   "execution_count": 39,
   "metadata": {},
   "outputs": [],
   "source": [
    "index = 2"
   ]
  },
  {
   "cell_type": "code",
   "execution_count": 40,
   "metadata": {},
   "outputs": [],
   "source": [
    "sample = test_data[index].reshape((1,8,8,15))"
   ]
  },
  {
   "cell_type": "code",
   "execution_count": 41,
   "metadata": {},
   "outputs": [],
   "source": [
    "reconstruction = model.predict_on_batch(sample)"
   ]
  },
  {
   "cell_type": "code",
   "execution_count": 49,
   "metadata": {},
   "outputs": [
    {
     "name": "stdout",
     "output_type": "stream",
     "text": [
      "1/1 [==============================] - 0s 21ms/step - loss: 1.7422 - sum_squared_loss: 1.5000 - num_pc_reg: 0.0000e+00 - pc_column_reg: 1.4297 - pc_plane_reg: 1.0312\n"
     ]
    },
    {
     "data": {
      "text/plain": [
       "{'loss': 1.7421875,\n",
       " 'sum_squared_loss': 1.5,\n",
       " 'num_pc_reg': 0.0,\n",
       " 'pc_column_reg': 1.4296875,\n",
       " 'pc_plane_reg': 1.03125}"
      ]
     },
     "execution_count": 49,
     "metadata": {},
     "output_type": "execute_result"
    }
   ],
   "source": [
    "model.evaluate(x=[reconstruction], y=[sample], return_dict=True)"
   ]
  },
  {
   "cell_type": "code",
   "execution_count": 52,
   "metadata": {},
   "outputs": [
    {
     "data": {
      "text/plain": [
       "(<tf.Tensor: shape=(), dtype=bfloat16, numpy=1.25>,\n",
       " <tf.Tensor: shape=(), dtype=bfloat16, numpy=1.125>,\n",
       " <tf.Tensor: shape=(), dtype=bfloat16, numpy=0.00265503>,\n",
       " <tf.Tensor: shape=(), dtype=bfloat16, numpy=0.792969>,\n",
       " <tf.Tensor: shape=(), dtype=bfloat16, numpy=0.433594>)"
      ]
     },
     "execution_count": 52,
     "metadata": {},
     "output_type": "execute_result"
    }
   ],
   "source": [
    "custom_regularized_loss(sample, reconstruction), sum_squared_loss(sample, reconstruction), num_pc_reg(sample, reconstruction), pc_column_reg(sample, reconstruction), pc_plane_reg(sample, reconstruction)"
   ]
  },
  {
   "cell_type": "code",
   "execution_count": 44,
   "metadata": {},
   "outputs": [],
   "source": [
    "binary_reconstruction = binarize_array(reconstruction)"
   ]
  },
  {
   "cell_type": "code",
   "execution_count": 45,
   "metadata": {},
   "outputs": [],
   "source": [
    "sample_board = tensor_to_board(sample[0])\n",
    "reconstructed_board = tensor_to_board(binary_reconstruction[0])"
   ]
  },
  {
   "cell_type": "code",
   "execution_count": 46,
   "metadata": {},
   "outputs": [
    {
     "name": "stdout",
     "output_type": "stream",
     "text": [
      ". . . . . . . .\n",
      ". . . . . . . K\n",
      ". . . . . . . .\n",
      ". . . . . P . .\n",
      ". . . . . . . k\n",
      ". . . . . . . .\n",
      ". . q . . . . .\n",
      ". . . . . . Q .\n",
      "\n",
      "\n"
     ]
    }
   ],
   "source": [
    "print_board(sample_board)"
   ]
  },
  {
   "cell_type": "code",
   "execution_count": 47,
   "metadata": {},
   "outputs": [
    {
     "name": "stdout",
     "output_type": "stream",
     "text": [
      ". . . . . . . .\n",
      ". . . . . . . K\n",
      ". . . . . . . .\n",
      ". . . . . P . .\n",
      ". . . . . . . k\n",
      ". . . . . . . .\n",
      ". . q . . . . .\n",
      ". . . . . . . .\n",
      "\n",
      "\n"
     ]
    }
   ],
   "source": [
    "print_board(reconstructed_board)"
   ]
  },
  {
   "cell_type": "code",
   "execution_count": 48,
   "metadata": {},
   "outputs": [
    {
     "data": {
      "application/vnd.jupyter.widget-view+json": {
       "model_id": "8f3cbb4eaa0843cf847502366c0a6401",
       "version_major": 2,
       "version_minor": 0
      },
      "text/plain": [
       "interactive(children=(IntSlider(value=0, description='slice_index', max=14), Output()), _dom_classes=('widget-…"
      ]
     },
     "metadata": {},
     "output_type": "display_data"
    },
    {
     "data": {
      "text/plain": [
       "<function __main__.visualize_tensor.<locals>.plot_slice(slice_index)>"
      ]
     },
     "execution_count": 48,
     "metadata": {},
     "output_type": "execute_result"
    }
   ],
   "source": [
    "visualize_tensor(abs(reconstruction-sample))"
   ]
  },
  {
   "cell_type": "code",
   "execution_count": null,
   "metadata": {},
   "outputs": [],
   "source": []
  }
 ],
 "metadata": {
  "kernelspec": {
   "display_name": "chess-embedding-experiments-mpMV2XyT-py3.11",
   "language": "python",
   "name": "python3"
  },
  "language_info": {
   "codemirror_mode": {
    "name": "ipython",
    "version": 3
   },
   "file_extension": ".py",
   "mimetype": "text/x-python",
   "name": "python",
   "nbconvert_exporter": "python",
   "pygments_lexer": "ipython3",
   "version": "3.11.3"
  },
  "orig_nbformat": 4
 },
 "nbformat": 4,
 "nbformat_minor": 2
}
