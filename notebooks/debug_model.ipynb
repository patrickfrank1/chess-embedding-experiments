{
 "cells": [
  {
   "cell_type": "code",
   "execution_count": null,
   "metadata": {},
   "outputs": [],
   "source": [
    "parent_path = !(cd .. && echo $(pwd))"
   ]
  },
  {
   "cell_type": "code",
   "execution_count": null,
   "metadata": {},
   "outputs": [],
   "source": [
    "import sys\n",
    "sys.path.insert(0,parent_path[0])\n",
    "\n",
    "import tensorflow as tf\n",
    "import numpy as np\n",
    "from utils.data_loader import load_train_test"
   ]
  },
  {
   "cell_type": "code",
   "execution_count": null,
   "metadata": {},
   "outputs": [],
   "source": [
    "input = np.random.randint(0, 2, (8,8,15), dtype=bool)\n",
    "print(input.shape, input[0,0,0])"
   ]
  },
  {
   "cell_type": "code",
   "execution_count": null,
   "metadata": {},
   "outputs": [],
   "source": [
    "tf.convert_to_tensor(input)"
   ]
  },
  {
   "cell_type": "markdown",
   "metadata": {},
   "source": [
    "---"
   ]
  },
  {
   "cell_type": "code",
   "execution_count": null,
   "metadata": {},
   "outputs": [],
   "source": [
    "# load train and test data\n",
    "train_data, test_data = load_train_test(parent_path[0] + \"/data\")\n",
    "train_sample = tf.convert_to_tensor(train_data[0])\n",
    "reconstruction = tf.random.uniform((8,8,15),minval=0,maxval=2,dtype=tf.bfloat16)\n",
    "\n",
    "print(\"Train data:\")\n",
    "print(train_data.shape, train_data.dtype, train_data[0,:,:,0])\n",
    "print(\"Reconstruction data:\")\n",
    "print(reconstruction.shape, reconstruction.dtype, reconstruction[:,:,0])\n",
    "\n",
    "print(\"tf.keras.losses.MeanSquaredError:\")\n",
    "mse = tf.keras.losses.MeanSquaredError()\n",
    "print(mse(test_data[0], reconstruction))\n",
    "\n",
    "print(\"tf.keras.losses.mean_squared_error\")\n",
    "print(tf.keras.losses.mean_squared_error(test_data[0], reconstruction))"
   ]
  },
  {
   "cell_type": "code",
   "execution_count": null,
   "metadata": {},
   "outputs": [],
   "source": [
    "print(train_data[0,1,0,:])\n",
    "print(reconstruction[1,0,:])"
   ]
  },
  {
   "cell_type": "code",
   "execution_count": null,
   "metadata": {},
   "outputs": [],
   "source": [
    "print(\"tf.keras.losses.BinaryCrossentropy:\")\n",
    "ce = tf.keras.losses.BinaryCrossentropy(from_logits=True)\n",
    "print(ce(test_data[0], reconstruction))\n",
    "\n",
    "print(\"tf.keras.losses.binary_crossentropy\")\n",
    "print(tf.keras.losses.binary_crossentropy(test_data[0], reconstruction))"
   ]
  },
  {
   "cell_type": "code",
   "execution_count": null,
   "metadata": {},
   "outputs": [],
   "source": []
  }
 ],
 "metadata": {
  "kernelspec": {
   "display_name": "chess-embedding-experiments-mpMV2XyT-py3.11",
   "language": "python",
   "name": "python3"
  },
  "language_info": {
   "codemirror_mode": {
    "name": "ipython",
    "version": 3
   },
   "file_extension": ".py",
   "mimetype": "text/x-python",
   "name": "python",
   "nbconvert_exporter": "python",
   "pygments_lexer": "ipython3",
   "version": "3.11.3"
  },
  "orig_nbformat": 4
 },
 "nbformat": 4,
 "nbformat_minor": 2
}
